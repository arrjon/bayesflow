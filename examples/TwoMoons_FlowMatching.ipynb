{
 "cells": [
  {
   "cell_type": "markdown",
   "id": "009b6adf",
   "metadata": {},
   "source": [
    "# Two Moons: Tackling Bimodal Posteriors"
   ]
  },
  {
   "cell_type": "code",
   "id": "d5f88a59",
   "metadata": {
    "ExecuteTime": {
     "end_time": "2024-09-23T12:46:11.346815Z",
     "start_time": "2024-09-23T12:46:11.344476Z"
    }
   },
   "source": [
    "import matplotlib.pyplot as plt\n",
    "import numpy as np\n",
    "import seaborn as sns\n",
    "\n",
    "# ensure the backend is set\n",
    "import os\n",
    "if \"KERAS_BACKEND\" not in os.environ:\n",
    "    # set this to \"torch\", \"tensorflow\", or \"jax\"\n",
    "    os.environ[\"KERAS_BACKEND\"] = \"jax\"\n",
    "\n",
    "import keras\n",
    "\n",
    "# for BayesFlow devs: this ensures that the latest dev version can be found\n",
    "import sys\n",
    "sys.path.append('../')\n",
    "\n",
    "import bayesflow as bf"
   ],
   "outputs": [],
   "execution_count": 49
  },
  {
   "cell_type": "markdown",
   "id": "c63b26ba",
   "metadata": {},
   "source": [
    "## Simulator<a class=\"anchor\" id=\"simulator\"></a>"
   ]
  },
  {
   "cell_type": "markdown",
   "id": "9525ffd7",
   "metadata": {},
   "source": [
    "This example will demonstrate amortized estimation of a somewhat strange Bayesian model, whose posterior evaluated at the origin $x = (0, 0)$ of the \"data\" will resemble two crescent moons. The forward process is a noisy non-linear transformation on a 2D plane:\n",
    "\n",
    "$$\n",
    "\\begin{align}\n",
    "x_1 &= -|\\theta_1 + \\theta_2|/\\sqrt{2} + r \\cos(\\alpha) + 0.25\\\\\n",
    "x_2 &= (-\\theta_1 + \\theta_2)/\\sqrt{2} + r\\sin{\\alpha}\n",
    "\\end{align}\n",
    "$$\n",
    "\n",
    "with $x = (x_1, x_2)$ playing the role of \"observables\" (data to be learned from), $\\alpha \\sim \\text{Uniform}(-\\pi/2, \\pi/2)$, and $r \\sim \\text{Normal}(0.1, 0.01)$ being latent variables creating noise in the data, and $\\theta = (\\theta_1, \\theta_2)$ being the parameters that we will later seek to infer from new $x$. We set their priors to\n",
    "\n",
    "$$\n",
    "\\begin{align}\n",
    "\\theta_1, \\theta_2 \\sim \\text{Uniform}(-1, 1).\n",
    "\\end{align}\n",
    "$$\n",
    "\n",
    "This model is typically used for benchmarking simulation-based inference (SBI) methods (see https://arxiv.org/pdf/2101.04653) and any method for amortized Bayesian inference should be capable of recovering the two moons posterior *without* using a gazillion of simulations. Note, that this is a considerably harder task than modeling the common unconditional two moons data set used often in the context of normalizing flows."
   ]
  },
  {
   "metadata": {},
   "cell_type": "markdown",
   "source": "BayesFlow offers many ways to define your data generating process. Here, we use sequential functions to build a simulator object for online training:",
   "id": "21bf228e706a010"
  },
  {
   "metadata": {
    "ExecuteTime": {
     "end_time": "2024-09-23T12:46:11.388263Z",
     "start_time": "2024-09-23T12:46:11.385178Z"
    }
   },
   "cell_type": "code",
   "source": [
    "def alpha_prior(rng):\n",
    "    alpha = rng.uniform(-np.pi / 2, np.pi / 2)\n",
    "    return dict(alpha=alpha)\n",
    "\n",
    "def r_prior(rng):\n",
    "    r = rng.normal(0.1, 0.01)\n",
    "    return dict(r=r)\n",
    "\n",
    "def theta_prior(rng):\n",
    "    theta = rng.uniform(-1, 1, 2)\n",
    "    return dict(theta=theta)\n",
    "\n",
    "def forward_model(theta, alpha, r):\n",
    "    x1 = -np.abs(theta[0] + theta[1]) / np.sqrt(2) + r * np.cos(alpha) + 0.25\n",
    "    x2 = (-theta[0] + theta[1]) / np.sqrt(2) + r * np.sin(alpha)\n",
    "    return dict(x=np.array([x1, x2]))"
   ],
   "id": "f761b142a0e1da66",
   "outputs": [],
   "execution_count": 50
  },
  {
   "metadata": {
    "ExecuteTime": {
     "end_time": "2024-09-23T12:46:11.433829Z",
     "start_time": "2024-09-23T12:46:11.431467Z"
    }
   },
   "cell_type": "code",
   "source": "simulator = bf.simulators.CompositeLambdaSimulator([alpha_prior, r_prior, theta_prior, forward_model])",
   "id": "4b89c861527c13b8",
   "outputs": [],
   "execution_count": 51
  },
  {
   "metadata": {},
   "cell_type": "markdown",
   "source": "Let's generate some data to see what the simulator does:",
   "id": "f6e1eb5777c59eba"
  },
  {
   "metadata": {
    "ExecuteTime": {
     "end_time": "2024-09-23T12:46:11.484514Z",
     "start_time": "2024-09-23T12:46:11.477075Z"
    }
   },
   "cell_type": "code",
   "source": [
    "# generate 128 random draws from the joint distribution p(r, alpha, theta, x)\n",
    "sample_data = simulator.sample((128,))"
   ],
   "id": "e6218e61d529e357",
   "outputs": [],
   "execution_count": 52
  },
  {
   "metadata": {
    "ExecuteTime": {
     "end_time": "2024-09-23T12:46:11.530636Z",
     "start_time": "2024-09-23T12:46:11.527823Z"
    }
   },
   "cell_type": "code",
   "source": [
    "print(\"Type of sample_data:\\n\\t\", type(sample_data))\n",
    "print(\"Keys of sample_data:\\n\\t\", sample_data.keys())\n",
    "print(\"Types of sample_data values:\\n\\t\", {k: type(v) for k, v in sample_data.items()})\n",
    "print(\"Shapes of sample_data values:\\n\\t\", {k: v.shape for k, v in sample_data.items()})"
   ],
   "id": "46174ccb0167026c",
   "outputs": [
    {
     "name": "stdout",
     "output_type": "stream",
     "text": [
      "Type of sample_data:\n",
      "\t <class 'dict'>\n",
      "Keys of sample_data:\n",
      "\t dict_keys(['alpha', 'r', 'theta', 'x'])\n",
      "Types of sample_data values:\n",
      "\t {'alpha': <class 'numpy.ndarray'>, 'r': <class 'numpy.ndarray'>, 'theta': <class 'numpy.ndarray'>, 'x': <class 'numpy.ndarray'>}\n",
      "Shapes of sample_data values:\n",
      "\t {'alpha': (128, 1), 'r': (128, 1), 'theta': (128, 2), 'x': (128, 2)}\n"
     ]
    }
   ],
   "execution_count": 53
  },
  {
   "cell_type": "markdown",
   "id": "8269d95d",
   "metadata": {},
   "source": "BayesFlow also provides this simulator and a collection of others in the `bayesflow.benchmarks` module."
  },
  {
   "metadata": {},
   "cell_type": "markdown",
   "source": [
    "## Data Adapter\n",
    "\n",
    "The next step is to tell BayesFlow how to deal with all the simulated variables. You may also think of this as informing BayesFlow about the data flow, i.e., which variables go into which network.\n",
    "\n",
    "For this example, we want to learn the posterior distribution $p(\\theta | x)$, so we **infer** $\\theta$, **conditioning** on $x$."
   ],
   "id": "5ac9e8d81088b94"
  },
  {
   "metadata": {
    "ExecuteTime": {
     "end_time": "2024-09-23T12:46:11.579516Z",
     "start_time": "2024-09-23T12:46:11.577479Z"
    }
   },
   "cell_type": "code",
   "source": [
    "data_adapter = bf.ContinuousApproximator.build_data_adapter(\n",
    "    inference_variables=[\"theta\"],\n",
    "    inference_conditions=[\"x\"],\n",
    ")"
   ],
   "id": "b6c057787bb01cc6",
   "outputs": [],
   "execution_count": 54
  },
  {
   "cell_type": "markdown",
   "id": "2d4c6eb0",
   "metadata": {},
   "source": [
    "## Traing a neural network to approximate all posteriors\n",
    "\n",
    "The next step is to set up the neural network that will approximate the posterior $p(\\theta|x)$.\n",
    "\n",
    "We choose Flow Matching as the architecture for this example, as it can deal well with the multimodal nature of the posteriors that some observables imply."
   ]
  },
  {
   "cell_type": "code",
   "id": "09206e6f",
   "metadata": {
    "ExecuteTime": {
     "end_time": "2024-09-23T12:46:11.633859Z",
     "start_time": "2024-09-23T12:46:11.622576Z"
    }
   },
   "source": [
    "inference_network = bf.networks.FlowMatching(\n",
    "    subnet=\"mlp\",\n",
    "    subnet_kwargs=dict(\n",
    "        depth=6,\n",
    "        width=256,\n",
    "    ),\n",
    ")"
   ],
   "outputs": [],
   "execution_count": 55
  },
  {
   "cell_type": "markdown",
   "id": "851e522f",
   "metadata": {},
   "source": "This inference network is just a general Flow Matching architecture, not yet adapted to the specific inference task at hand (i.e., posterior appproximation). To achieve this adaptation, we combine the network with our data adapter, which together form an `approximator`. In this case, we need a `ContinuousApproximator` since the target we want to approximate is the posterior of the *continuous* parameter vector $\\theta$."
  },
  {
   "cell_type": "code",
   "id": "96ca6ffa",
   "metadata": {
    "ExecuteTime": {
     "end_time": "2024-09-23T12:46:11.679015Z",
     "start_time": "2024-09-23T12:46:11.676655Z"
    }
   },
   "source": [
    "approximator = bf.ContinuousApproximator(\n",
    "    inference_network=inference_network,\n",
    "    data_adapter=data_adapter,\n",
    ")"
   ],
   "outputs": [],
   "execution_count": 56
  },
  {
   "metadata": {},
   "cell_type": "markdown",
   "source": [
    "### Optimizer and Learning Rate\n",
    "For this example, it is sufficient to use a static learning rate. In practice, you may want to use a learning rate schedule, like [cosine decay](https://keras.io/api/optimizers/learning_rate_schedules/cosine_decay/)."
   ],
   "id": "566264eadc76c2c"
  },
  {
   "metadata": {
    "ExecuteTime": {
     "end_time": "2024-09-23T12:46:11.723529Z",
     "start_time": "2024-09-23T12:46:11.721223Z"
    }
   },
   "cell_type": "code",
   "source": [
    "learning_rate = 1e-4\n",
    "optimizer = keras.optimizers.Adam(learning_rate=learning_rate)"
   ],
   "id": "e8d7e053",
   "outputs": [],
   "execution_count": 57
  },
  {
   "metadata": {
    "ExecuteTime": {
     "end_time": "2024-09-23T12:46:11.767440Z",
     "start_time": "2024-09-23T12:46:11.765348Z"
    }
   },
   "cell_type": "code",
   "source": "approximator.compile(optimizer=optimizer)",
   "id": "51808fcd560489ac",
   "outputs": [],
   "execution_count": 58
  },
  {
   "cell_type": "markdown",
   "id": "708b1303",
   "metadata": {},
   "source": [
    "### Training\n",
    "\n",
    "We are ready to train our deep posterior approximator on the two moons example. We pass the simulator object to the `fit` method, which will generate training data on the fly (i.e., online training).\n",
    "\n",
    "Internally, BayesFlow creates a [keras PyDataset](https://keras.io/api/utils/python_utils/#pydataset-class) from your simulator object, which is then passed onto keras `fit` method. You can also create the dataset yourself using either the BayesFlow wrappers such as `bf.datasets.OnlineDataset` or write your own dataset class that inherits from `keras.utils.PyDataset`."
   ]
  },
  {
   "metadata": {
    "ExecuteTime": {
     "end_time": "2024-09-23T12:46:11.811178Z",
     "start_time": "2024-09-23T12:46:11.809169Z"
    }
   },
   "cell_type": "code",
   "source": [
    "epochs = 30\n",
    "batches_per_epoch = 1000\n",
    "\n",
    "# \"auto\" attempts to make the batch size large enough to fill the memory budget\n",
    "batch_size = \"auto\"\n",
    "# memory budget is only used when batch_size is \"auto\"\n",
    "memory_budget = \"2 GB\""
   ],
   "id": "beb53eb861b3109",
   "outputs": [],
   "execution_count": 59
  },
  {
   "cell_type": "code",
   "id": "0f496bda",
   "metadata": {
    "ExecuteTime": {
     "end_time": "2024-09-23T13:10:46.367507Z",
     "start_time": "2024-09-23T12:46:11.855464Z"
    }
   },
   "source": [
    "history = approximator.fit(\n",
    "    batch_size=batch_size,\n",
    "    memory_budget=memory_budget,\n",
    "    epochs=epochs,\n",
    "    num_batches=batches_per_epoch,\n",
    "    simulator=simulator,\n",
    "    workers=None,\n",
    "    use_multiprocessing=False,\n",
    ")"
   ],
   "outputs": [
    {
     "name": "stderr",
     "output_type": "stream",
     "text": [
      "INFO:bayesflow:Building dataset from simulator instance of CompositeLambdaSimulator.\n",
      "INFO:bayesflow:Estimating memory footprint of one sample at 24.0 B.\n",
      "INFO:bayesflow:Using a batch size of 1024.\n",
      "INFO:bayesflow:Building on a test batch.\n"
     ]
    },
    {
     "name": "stdout",
     "output_type": "stream",
     "text": [
      "Epoch 1/30\n",
      "\u001B[1m1000/1000\u001B[0m \u001B[32m━━━━━━━━━━━━━━━━━━━━\u001B[0m\u001B[37m\u001B[0m \u001B[1m48s\u001B[0m 48ms/step - loss: 0.6327 - loss/inference_loss: 0.6327\n",
      "Epoch 2/30\n",
      "\u001B[1m1000/1000\u001B[0m \u001B[32m━━━━━━━━━━━━━━━━━━━━\u001B[0m\u001B[37m\u001B[0m \u001B[1m48s\u001B[0m 48ms/step - loss: 0.5769 - loss/inference_loss: 0.5769\n",
      "Epoch 3/30\n",
      "\u001B[1m1000/1000\u001B[0m \u001B[32m━━━━━━━━━━━━━━━━━━━━\u001B[0m\u001B[37m\u001B[0m \u001B[1m48s\u001B[0m 48ms/step - loss: 0.5668 - loss/inference_loss: 0.5668\n",
      "Epoch 4/30\n",
      "\u001B[1m1000/1000\u001B[0m \u001B[32m━━━━━━━━━━━━━━━━━━━━\u001B[0m\u001B[37m\u001B[0m \u001B[1m49s\u001B[0m 49ms/step - loss: 0.5633 - loss/inference_loss: 0.5633\n",
      "Epoch 5/30\n",
      "\u001B[1m1000/1000\u001B[0m \u001B[32m━━━━━━━━━━━━━━━━━━━━\u001B[0m\u001B[37m\u001B[0m \u001B[1m48s\u001B[0m 48ms/step - loss: 0.5582 - loss/inference_loss: 0.5582\n",
      "Epoch 6/30\n",
      "\u001B[1m1000/1000\u001B[0m \u001B[32m━━━━━━━━━━━━━━━━━━━━\u001B[0m\u001B[37m\u001B[0m \u001B[1m49s\u001B[0m 49ms/step - loss: 0.5545 - loss/inference_loss: 0.5545\n",
      "Epoch 7/30\n",
      "\u001B[1m1000/1000\u001B[0m \u001B[32m━━━━━━━━━━━━━━━━━━━━\u001B[0m\u001B[37m\u001B[0m \u001B[1m49s\u001B[0m 49ms/step - loss: 0.5472 - loss/inference_loss: 0.5472\n",
      "Epoch 8/30\n",
      "\u001B[1m1000/1000\u001B[0m \u001B[32m━━━━━━━━━━━━━━━━━━━━\u001B[0m\u001B[37m\u001B[0m \u001B[1m48s\u001B[0m 48ms/step - loss: 0.5456 - loss/inference_loss: 0.5456\n",
      "Epoch 9/30\n",
      "\u001B[1m1000/1000\u001B[0m \u001B[32m━━━━━━━━━━━━━━━━━━━━\u001B[0m\u001B[37m\u001B[0m \u001B[1m49s\u001B[0m 49ms/step - loss: 0.5444 - loss/inference_loss: 0.5444\n",
      "Epoch 10/30\n",
      "\u001B[1m1000/1000\u001B[0m \u001B[32m━━━━━━━━━━━━━━━━━━━━\u001B[0m\u001B[37m\u001B[0m \u001B[1m49s\u001B[0m 49ms/step - loss: 0.5454 - loss/inference_loss: 0.5454\n",
      "Epoch 11/30\n",
      "\u001B[1m1000/1000\u001B[0m \u001B[32m━━━━━━━━━━━━━━━━━━━━\u001B[0m\u001B[37m\u001B[0m \u001B[1m49s\u001B[0m 49ms/step - loss: 0.5415 - loss/inference_loss: 0.5415\n",
      "Epoch 12/30\n",
      "\u001B[1m1000/1000\u001B[0m \u001B[32m━━━━━━━━━━━━━━━━━━━━\u001B[0m\u001B[37m\u001B[0m \u001B[1m50s\u001B[0m 50ms/step - loss: 0.5416 - loss/inference_loss: 0.5416\n",
      "Epoch 13/30\n",
      "\u001B[1m1000/1000\u001B[0m \u001B[32m━━━━━━━━━━━━━━━━━━━━\u001B[0m\u001B[37m\u001B[0m \u001B[1m50s\u001B[0m 50ms/step - loss: 0.5417 - loss/inference_loss: 0.5417\n",
      "Epoch 14/30\n",
      "\u001B[1m1000/1000\u001B[0m \u001B[32m━━━━━━━━━━━━━━━━━━━━\u001B[0m\u001B[37m\u001B[0m \u001B[1m49s\u001B[0m 49ms/step - loss: 0.5421 - loss/inference_loss: 0.5421\n",
      "Epoch 15/30\n",
      "\u001B[1m1000/1000\u001B[0m \u001B[32m━━━━━━━━━━━━━━━━━━━━\u001B[0m\u001B[37m\u001B[0m \u001B[1m49s\u001B[0m 49ms/step - loss: 0.5395 - loss/inference_loss: 0.5395\n",
      "Epoch 16/30\n",
      "\u001B[1m1000/1000\u001B[0m \u001B[32m━━━━━━━━━━━━━━━━━━━━\u001B[0m\u001B[37m\u001B[0m \u001B[1m50s\u001B[0m 50ms/step - loss: 0.5390 - loss/inference_loss: 0.5390\n",
      "Epoch 17/30\n",
      "\u001B[1m1000/1000\u001B[0m \u001B[32m━━━━━━━━━━━━━━━━━━━━\u001B[0m\u001B[37m\u001B[0m \u001B[1m50s\u001B[0m 50ms/step - loss: 0.5393 - loss/inference_loss: 0.5393\n",
      "Epoch 18/30\n",
      "\u001B[1m1000/1000\u001B[0m \u001B[32m━━━━━━━━━━━━━━━━━━━━\u001B[0m\u001B[37m\u001B[0m \u001B[1m50s\u001B[0m 50ms/step - loss: 0.5380 - loss/inference_loss: 0.5380\n",
      "Epoch 19/30\n",
      "\u001B[1m1000/1000\u001B[0m \u001B[32m━━━━━━━━━━━━━━━━━━━━\u001B[0m\u001B[37m\u001B[0m \u001B[1m50s\u001B[0m 50ms/step - loss: 0.5363 - loss/inference_loss: 0.5363\n",
      "Epoch 20/30\n",
      "\u001B[1m1000/1000\u001B[0m \u001B[32m━━━━━━━━━━━━━━━━━━━━\u001B[0m\u001B[37m\u001B[0m \u001B[1m49s\u001B[0m 49ms/step - loss: 0.5377 - loss/inference_loss: 0.5377\n",
      "Epoch 21/30\n",
      "\u001B[1m1000/1000\u001B[0m \u001B[32m━━━━━━━━━━━━━━━━━━━━\u001B[0m\u001B[37m\u001B[0m \u001B[1m49s\u001B[0m 49ms/step - loss: 0.5389 - loss/inference_loss: 0.5389\n",
      "Epoch 22/30\n",
      "\u001B[1m1000/1000\u001B[0m \u001B[32m━━━━━━━━━━━━━━━━━━━━\u001B[0m\u001B[37m\u001B[0m \u001B[1m49s\u001B[0m 49ms/step - loss: 0.5388 - loss/inference_loss: 0.5388\n",
      "Epoch 23/30\n",
      "\u001B[1m1000/1000\u001B[0m \u001B[32m━━━━━━━━━━━━━━━━━━━━\u001B[0m\u001B[37m\u001B[0m \u001B[1m49s\u001B[0m 49ms/step - loss: 0.5378 - loss/inference_loss: 0.5378\n",
      "Epoch 24/30\n",
      "\u001B[1m1000/1000\u001B[0m \u001B[32m━━━━━━━━━━━━━━━━━━━━\u001B[0m\u001B[37m\u001B[0m \u001B[1m49s\u001B[0m 49ms/step - loss: 0.5357 - loss/inference_loss: 0.5357\n",
      "Epoch 25/30\n",
      "\u001B[1m1000/1000\u001B[0m \u001B[32m━━━━━━━━━━━━━━━━━━━━\u001B[0m\u001B[37m\u001B[0m \u001B[1m50s\u001B[0m 50ms/step - loss: 0.5349 - loss/inference_loss: 0.5349\n",
      "Epoch 26/30\n",
      "\u001B[1m1000/1000\u001B[0m \u001B[32m━━━━━━━━━━━━━━━━━━━━\u001B[0m\u001B[37m\u001B[0m \u001B[1m49s\u001B[0m 49ms/step - loss: 0.5379 - loss/inference_loss: 0.5379\n",
      "Epoch 27/30\n",
      "\u001B[1m1000/1000\u001B[0m \u001B[32m━━━━━━━━━━━━━━━━━━━━\u001B[0m\u001B[37m\u001B[0m \u001B[1m50s\u001B[0m 50ms/step - loss: 0.5363 - loss/inference_loss: 0.5363\n",
      "Epoch 28/30\n",
      "\u001B[1m1000/1000\u001B[0m \u001B[32m━━━━━━━━━━━━━━━━━━━━\u001B[0m\u001B[37m\u001B[0m \u001B[1m50s\u001B[0m 50ms/step - loss: 0.5346 - loss/inference_loss: 0.5346\n",
      "Epoch 29/30\n",
      "\u001B[1m1000/1000\u001B[0m \u001B[32m━━━━━━━━━━━━━━━━━━━━\u001B[0m\u001B[37m\u001B[0m \u001B[1m49s\u001B[0m 49ms/step - loss: 0.5344 - loss/inference_loss: 0.5344\n",
      "Epoch 30/30\n",
      "\u001B[1m1000/1000\u001B[0m \u001B[32m━━━━━━━━━━━━━━━━━━━━\u001B[0m\u001B[37m\u001B[0m \u001B[1m50s\u001B[0m 50ms/step - loss: 0.5375 - loss/inference_loss: 0.5375\n"
     ]
    }
   ],
   "execution_count": 60
  },
  {
   "cell_type": "markdown",
   "id": "b90a6062",
   "metadata": {},
   "source": "## Validation"
  },
  {
   "cell_type": "markdown",
   "id": "ca62b21d",
   "metadata": {},
   "source": [
    "### Two Moons Posterior\n",
    "\n",
    "The two moons posterior at point $x = (0, 0)$ should resemble two crescent shapes. Below, we plot the corresponding posterior samples and posterior density. \n",
    "These results suggest that our flow matching setup can approximate the expected analytical posterior well. (Note that you can achieve even better fit the longer you train.)"
   ]
  },
  {
   "cell_type": "code",
   "id": "8562caeb",
   "metadata": {
    "ExecuteTime": {
     "end_time": "2024-09-23T13:10:49.205561Z",
     "start_time": "2024-09-23T13:10:46.376577Z"
    }
   },
   "source": [
    "# Set the number of posterior draws you want to get\n",
    "num_samples = 5000\n",
    "\n",
    "# Obtain samples from amortized posterior\n",
    "conditions = {\"x\": np.array([[0.0, 0.0]])}\n",
    "samples_at_origin = approximator.sample(conditions=conditions, num_samples=num_samples)[\"theta\"]\n",
    "\n",
    "# Prepare figure\n",
    "f, axes = plt.subplots(1, figsize=(6, 6))\n",
    "\n",
    "# Plot samples\n",
    "axes.scatter(samples_at_origin[0, :, 0], samples_at_origin[0, :, 1], color=\"#153c7a\", alpha=0.75, s=0.5)\n",
    "sns.despine(ax=axes)\n",
    "axes.set_title(r\"Posterior samples at origin $x=(0, 0)$\")\n",
    "axes.grid(alpha=0.3)\n",
    "axes.set_aspect(\"equal\", adjustable=\"box\")\n",
    "axes.set_xlim([-0.5, 0.5])\n",
    "axes.set_ylim([-0.5, 0.5])"
   ],
   "outputs": [
    {
     "data": {
      "text/plain": [
       "(-0.5, 0.5)"
      ]
     },
     "execution_count": 61,
     "metadata": {},
     "output_type": "execute_result"
    },
    {
     "data": {
      "text/plain": [
       "<Figure size 600x600 with 1 Axes>"
      ],
      "image/png": "[encoded data removed]"
     },
     "metadata": {},
     "output_type": "display_data"
    }
   ],
   "execution_count": 61
  },
  {
   "cell_type": "markdown",
   "id": "01821d24",
   "metadata": {},
   "source": [
    "\n",
    "The posterior looks as we have expected in this case. However, in general, we do not know how the posterior is supposed to look like for any specific dataset. As such, we need diagnostics that validate the correctness of the inferred posterior. One such diagnostic is simulation-based calibration(SBC), which we can apply for free due to amortization. For more details on SBC and diagnostic plots, see:\n",
    "\n",
    "1. Talts, S., Betancourt, M., Simpson, D., Vehtari, A., & Gelman, A. (2018). Validating Bayesian inference algorithms with simulation-based calibration. *arXiv preprint*.\n",
    "2. Säilynoja, T., Bürkner, P. C., & Vehtari, A. (2022). Graphical test for discrete uniformity and its applications in goodness-of-fit evaluation and multiple sample comparison. *Statistics and Computing*."
   ]
  },
  {
   "cell_type": "code",
   "id": "f76289b3",
   "metadata": {
    "ExecuteTime": {
     "end_time": "2024-09-23T13:10:49.213384Z",
     "start_time": "2024-09-23T13:10:49.211737Z"
    }
   },
   "source": [
    "# Will be added soon."
   ],
   "outputs": [],
   "execution_count": 62
  },
  {
   "cell_type": "markdown",
   "id": "66248a2f",
   "metadata": {},
   "source": [
    "## Further Experimentation <a class=\"anchor\" id=\"further_experimentation\"></a>"
   ]
  },
  {
   "cell_type": "code",
   "id": "89dcb727",
   "metadata": {
    "ExecuteTime": {
     "end_time": "2024-09-23T13:10:49.258127Z",
     "start_time": "2024-09-23T13:10:49.256363Z"
    }
   },
   "source": [
    "# Will be added soon."
   ],
   "outputs": [],
   "execution_count": 63
  }
 ],
 "metadata": {
  "kernelspec": {
   "display_name": "Python 3 (ipykernel)",
   "language": "python",
   "name": "python3"
  },
  "language_info": {
   "codemirror_mode": {
    "name": "ipython",
    "version": 3
   },
   "file_extension": ".py",
   "mimetype": "text/x-python",
   "name": "python",
   "nbconvert_exporter": "python",
   "pygments_lexer": "ipython3",
   "version": "3.11.5"
  },
  "toc": {
   "base_numbering": 1,
   "nav_menu": {},
   "number_sections": true,
   "sideBar": true,
   "skip_h1_title": true,
   "title_cell": "Table of Contents",
   "title_sidebar": "Contents",
   "toc_cell": true,
   "toc_position": {
    "height": "calc(100% - 180px)",
    "left": "10px",
    "top": "150px",
    "width": "165px"
   },
   "toc_section_display": true,
   "toc_window_display": true
  }
 },
 "nbformat": 4,
 "nbformat_minor": 5
}
