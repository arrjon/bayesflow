{
 "cells": [
  {
   "cell_type": "markdown",
   "id": "009b6adf",
   "metadata": {},
   "source": [
    "# Two Moons: Tackling Bimodal Posteriors"
   ]
  },
  {
   "cell_type": "code",
   "execution_count": 1,
   "id": "d5f88a59",
   "metadata": {
    "ExecuteTime": {
     "end_time": "2024-09-23T14:39:46.551814Z",
     "start_time": "2024-09-23T14:39:46.032170Z"
    }
   },
   "outputs": [],
   "source": [
    "import matplotlib.pyplot as plt\n",
    "import numpy as np\n",
    "import seaborn as sns\n",
    "\n",
    "# ensure the backend is set\n",
    "import os\n",
    "if \"KERAS_BACKEND\" not in os.environ:\n",
    "    # set this to \"torch\", \"tensorflow\", or \"jax\"\n",
    "    os.environ[\"KERAS_BACKEND\"] = \"jax\"\n",
    "\n",
    "import keras\n",
    "\n",
    "# for BayesFlow devs: this ensures that the latest dev version can be found\n",
    "import sys\n",
    "sys.path.append('../')\n",
    "\n",
    "import bayesflow as bf"
   ]
  },
  {
   "cell_type": "markdown",
   "id": "c63b26ba",
   "metadata": {},
   "source": [
    "## Simulator<a class=\"anchor\" id=\"simulator\"></a>"
   ]
  },
  {
   "cell_type": "markdown",
   "id": "9525ffd7",
   "metadata": {},
   "source": [
    "This example will demonstrate amortized estimation of a somewhat strange Bayesian model, whose posterior evaluated at the origin $x = (0, 0)$ of the \"data\" will resemble two crescent moons. The forward process is a noisy non-linear transformation on a 2D plane:\n",
    "\n",
    "$$\n",
    "\\begin{align}\n",
    "x_1 &= -|\\theta_1 + \\theta_2|/\\sqrt{2} + r \\cos(\\alpha) + 0.25\\\\\n",
    "x_2 &= (-\\theta_1 + \\theta_2)/\\sqrt{2} + r\\sin{\\alpha}\n",
    "\\end{align}\n",
    "$$\n",
    "\n",
    "with $x = (x_1, x_2)$ playing the role of \"observables\" (data to be learned from), $\\alpha \\sim \\text{Uniform}(-\\pi/2, \\pi/2)$, and $r \\sim \\text{Normal}(0.1, 0.01)$ being latent variables creating noise in the data, and $\\theta = (\\theta_1, \\theta_2)$ being the parameters that we will later seek to infer from new $x$. We set their priors to\n",
    "\n",
    "$$\n",
    "\\begin{align}\n",
    "\\theta_1, \\theta_2 \\sim \\text{Uniform}(-1, 1).\n",
    "\\end{align}\n",
    "$$\n",
    "\n",
    "This model is typically used for benchmarking simulation-based inference (SBI) methods (see https://arxiv.org/pdf/2101.04653) and any method for amortized Bayesian inference should be capable of recovering the two moons posterior *without* using a gazillion of simulations. Note, that this is a considerably harder task than modeling the common unconditional two moons data set used often in the context of normalizing flows."
   ]
  },
  {
   "cell_type": "markdown",
   "id": "21bf228e706a010",
   "metadata": {},
   "source": [
    "BayesFlow offers many ways to define your data generating process. Here, we use sequential functions to build a simulator object for online training. Within this composite simulator, each function has access to the outputs of the previous functions. This effectively allows you to define any generative graph."
   ]
  },
  {
   "cell_type": "code",
   "execution_count": 2,
   "id": "f761b142a0e1da66",
   "metadata": {
    "ExecuteTime": {
     "end_time": "2024-09-23T14:39:46.703381Z",
     "start_time": "2024-09-23T14:39:46.700649Z"
    }
   },
   "outputs": [],
   "source": [
    "def noise_prior():\n",
    "    alpha = np.random.uniform(-np.pi / 2, np.pi / 2)\n",
    "    r = np.random.normal(0.1, 0.01)\n",
    "    return dict(alpha=alpha, r=r)\n",
    "\n",
    "def theta_prior():\n",
    "    theta = np.random.uniform(-1, 1, 2)\n",
    "    return dict(theta=theta)\n",
    "\n",
    "def forward_model(theta, alpha, r):\n",
    "    x1 = -np.abs(theta[0] + theta[1]) / np.sqrt(2) + r * np.cos(alpha) + 0.25\n",
    "    x2 = (-theta[0] + theta[1]) / np.sqrt(2) + r * np.sin(alpha)\n",
    "    return dict(x=np.array([x1, x2]))"
   ]
  },
  {
   "cell_type": "markdown",
   "id": "722cb773",
   "metadata": {},
   "source": [
    "Within the composite simulator, every simulator has access to the outputs of the previous simulators in the list. For example, the last simulator `forward_model` has access to the outputs of the three other simulators."
   ]
  },
  {
   "cell_type": "code",
   "execution_count": 3,
   "id": "4b89c861527c13b8",
   "metadata": {
    "ExecuteTime": {
     "end_time": "2024-09-23T14:39:46.747091Z",
     "start_time": "2024-09-23T14:39:46.744830Z"
    }
   },
   "outputs": [],
   "source": [
    "simulator = bf.simulators.CompositeLambdaSimulator([noise_prior, theta_prior, forward_model])"
   ]
  },
  {
   "cell_type": "markdown",
   "id": "f6e1eb5777c59eba",
   "metadata": {},
   "source": [
    "Let's generate some data to see what the simulator does:"
   ]
  },
  {
   "cell_type": "code",
   "execution_count": 4,
   "id": "e6218e61d529e357",
   "metadata": {
    "ExecuteTime": {
     "end_time": "2024-09-23T14:39:46.798575Z",
     "start_time": "2024-09-23T14:39:46.790581Z"
    }
   },
   "outputs": [],
   "source": [
    "# generate 64 random draws from the joint distribution p(r, alpha, theta, x)\n",
    "sample_data = simulator.sample((64,))"
   ]
  },
  {
   "cell_type": "code",
   "execution_count": 5,
   "id": "46174ccb0167026c",
   "metadata": {
    "ExecuteTime": {
     "end_time": "2024-09-23T14:39:46.854911Z",
     "start_time": "2024-09-23T14:39:46.852129Z"
    }
   },
   "outputs": [
    {
     "name": "stdout",
     "output_type": "stream",
     "text": [
      "Type of sample_data:\n",
      "\t <class 'dict'>\n",
      "Keys of sample_data:\n",
      "\t dict_keys(['alpha', 'r', 'theta', 'x'])\n",
      "Types of sample_data values:\n",
      "\t {'alpha': <class 'numpy.ndarray'>, 'r': <class 'numpy.ndarray'>, 'theta': <class 'numpy.ndarray'>, 'x': <class 'numpy.ndarray'>}\n",
      "Shapes of sample_data values:\n",
      "\t {'alpha': (64, 1), 'r': (64, 1), 'theta': (64, 2), 'x': (64, 2)}\n",
      "Type of sample_data:\n",
      "\t <class 'dict'>\n",
      "Keys of sample_data:\n",
      "\t dict_keys(['alpha', 'r', 'theta', 'x'])\n",
      "Types of sample_data values:\n",
      "\t {'alpha': <class 'numpy.ndarray'>, 'r': <class 'numpy.ndarray'>, 'theta': <class 'numpy.ndarray'>, 'x': <class 'numpy.ndarray'>}\n",
      "Shapes of sample_data values:\n",
      "\t {'alpha': (64, 1), 'r': (64, 1), 'theta': (64, 2), 'x': (64, 2)}\n"
     ]
    }
   ],
   "source": [
    "print(\"Type of sample_data:\\n\\t\", type(sample_data))\n",
    "print(\"Keys of sample_data:\\n\\t\", sample_data.keys())\n",
    "print(\"Types of sample_data values:\\n\\t\", {k: type(v) for k, v in sample_data.items()})\n",
    "print(\"Shapes of sample_data values:\\n\\t\", {k: v.shape for k, v in sample_data.items()})"
   ]
  },
  {
   "cell_type": "markdown",
   "id": "17f158bd2d7abf75",
   "metadata": {},
   "source": [
    "BayesFlow also provides this simulator and a collection of others in the `bayesflow.benchmarks` module."
   ]
  },
  {
   "cell_type": "markdown",
   "id": "fee88fcfd7a373b0",
   "metadata": {},
   "source": [
    "## Data Adapter\n",
    "\n",
    "The next step is to tell BayesFlow how to deal with all the simulated variables. You may also think of this as informing BayesFlow about the data flow, i.e., which variables go into which network.\n",
    "\n",
    "For this example, we want to learn the posterior distribution $p(\\theta | x)$, so we **infer** $\\theta$, **conditioning** on $x$."
   ]
  },
  {
   "cell_type": "code",
   "execution_count": 6,
   "id": "c9637c576d4ad4e5",
   "metadata": {
    "ExecuteTime": {
     "end_time": "2024-09-23T14:39:46.905081Z",
     "start_time": "2024-09-23T14:39:46.903091Z"
    }
   },
   "outputs": [],
   "source": [
    "data_adapter = bf.ContinuousApproximator.build_data_adapter(\n",
    "    inference_variables=[\"theta\"],\n",
    "    inference_conditions=[\"x\"],\n",
    ")"
   ]
  },
  {
   "cell_type": "markdown",
   "id": "254e287b2bccdad",
   "metadata": {},
   "source": [
    "## Dataset\n",
    "\n",
    "For this example, we will sample our training data ahead of time and use offline training with a `bf.datasets.OfflineDataset`.\n",
    "\n",
    "This makes the training process faster, since we avoid repeated sampling. If you want to use online training, you can use an `OnlineDataset` analogously, or just pass your simulator directly to `approximator.fit()`!"
   ]
  },
  {
   "cell_type": "code",
   "execution_count": 7,
   "id": "39cb5a1c9824246f",
   "metadata": {
    "ExecuteTime": {
     "end_time": "2024-09-23T14:39:46.950573Z",
     "start_time": "2024-09-23T14:39:46.948624Z"
    }
   },
   "outputs": [],
   "source": [
    "num_training_batches = 512\n",
    "num_validation_batches = 128\n",
    "batch_size = 64"
   ]
  },
  {
   "cell_type": "code",
   "execution_count": 8,
   "id": "9dee7252ef99affa",
   "metadata": {
    "ExecuteTime": {
     "end_time": "2024-09-23T14:39:53.268860Z",
     "start_time": "2024-09-23T14:39:46.994697Z"
    }
   },
   "outputs": [],
   "source": [
    "training_samples = simulator.sample((num_training_batches * batch_size,))\n",
    "validation_samples = simulator.sample((num_validation_batches * batch_size,))"
   ]
  },
  {
   "cell_type": "code",
   "execution_count": 9,
   "id": "51045bbed88cb5c2",
   "metadata": {
    "ExecuteTime": {
     "end_time": "2024-09-23T14:39:53.281170Z",
     "start_time": "2024-09-23T14:39:53.275921Z"
    }
   },
   "outputs": [],
   "source": [
    "training_dataset = bf.datasets.OfflineDataset(training_samples, batch_size=batch_size, data_adapter=data_adapter)\n",
    "validation_dataset = bf.datasets.OfflineDataset(validation_samples, batch_size=batch_size, data_adapter=data_adapter)"
   ]
  },
  {
   "cell_type": "markdown",
   "id": "2d4c6eb0",
   "metadata": {},
   "source": [
    "## Training a neural network to approximate all posteriors\n",
    "\n",
    "The next step is to set up the neural network that will approximate the posterior $p(\\theta|x)$.\n",
    "\n",
    "We choose Flow Matching as the architecture for this example, as it can deal well with the multimodal nature of the posteriors that some observables imply."
   ]
  },
  {
   "cell_type": "code",
   "execution_count": 10,
   "id": "09206e6f",
   "metadata": {
    "ExecuteTime": {
     "end_time": "2024-09-23T14:39:53.339590Z",
     "start_time": "2024-09-23T14:39:53.319852Z"
    }
   },
   "outputs": [],
   "source": [
    "inference_network = bf.networks.FlowMatching(\n",
    "    subnet=\"mlp\",\n",
    "    subnet_kwargs=dict(\n",
    "        depth=6,\n",
    "        width=256,\n",
    "    ),\n",
    ")"
   ]
  },
  {
   "cell_type": "markdown",
   "id": "851e522f",
   "metadata": {},
   "source": [
    "This inference network is just a general Flow Matching architecture, not yet adapted to the specific inference task at hand (i.e., posterior appproximation). To achieve this adaptation, we combine the network with our data adapter, which together form an `approximator`. In this case, we need a `ContinuousApproximator` since the target we want to approximate is the posterior of the *continuous* parameter vector $\\theta$."
   ]
  },
  {
   "cell_type": "code",
   "execution_count": 11,
   "id": "96ca6ffa",
   "metadata": {
    "ExecuteTime": {
     "end_time": "2024-09-23T14:39:53.371691Z",
     "start_time": "2024-09-23T14:39:53.369375Z"
    }
   },
   "outputs": [],
   "source": [
    "approximator = bf.ContinuousApproximator(\n",
    "    inference_network=inference_network,\n",
    "    data_adapter=data_adapter,\n",
    ")"
   ]
  },
  {
   "cell_type": "markdown",
   "id": "566264eadc76c2c",
   "metadata": {},
   "source": [
    "### Optimizer and Learning Rate\n",
    "For this example, it is sufficient to use a static learning rate. In practice, you may want to use a learning rate schedule, like [cosine decay](https://keras.io/api/optimizers/learning_rate_schedules/cosine_decay/)."
   ]
  },
  {
   "cell_type": "code",
   "execution_count": 12,
   "id": "e8d7e053",
   "metadata": {
    "ExecuteTime": {
     "end_time": "2024-09-23T14:39:53.433012Z",
     "start_time": "2024-09-23T14:39:53.415903Z"
    }
   },
   "outputs": [],
   "source": [
    "learning_rate = 1e-4\n",
    "optimizer = keras.optimizers.Adam(learning_rate=learning_rate)"
   ]
  },
  {
   "cell_type": "code",
   "execution_count": 13,
   "id": "51808fcd560489ac",
   "metadata": {
    "ExecuteTime": {
     "end_time": "2024-09-23T14:39:53.476089Z",
     "start_time": "2024-09-23T14:39:53.466001Z"
    }
   },
   "outputs": [],
   "source": [
    "approximator.compile(optimizer=optimizer)"
   ]
  },
  {
   "cell_type": "markdown",
   "id": "708b1303",
   "metadata": {},
   "source": [
    "### Training\n",
    "\n",
    "We are ready to train our deep posterior approximator on the two moons example. We pass the dataset object to the `fit` method and watch as Bayesflow trains."
   ]
  },
  {
   "cell_type": "code",
   "execution_count": null,
   "id": "0f496bda",
   "metadata": {
    "ExecuteTime": {
     "end_time": "2024-09-23T14:42:36.067393Z",
     "start_time": "2024-09-23T14:39:53.513436Z"
    }
   },
   "outputs": [],
   "source": [
    "history = approximator.fit(\n",
    "    epochs=30,\n",
    "    dataset=training_dataset,\n",
    "    validation_data=validation_dataset,\n",
    ")"
   ]
  },
  {
   "cell_type": "markdown",
   "id": "b90a6062",
   "metadata": {},
   "source": [
    "## Validation"
   ]
  },
  {
   "cell_type": "markdown",
   "id": "ca62b21d",
   "metadata": {},
   "source": [
    "### Two Moons Posterior\n",
    "\n",
    "The two moons posterior at point $x = (0, 0)$ should resemble two crescent shapes. Below, we plot the corresponding posterior samples and posterior density. \n",
    "\n",
    "These results suggest that our flow matching setup can approximate the expected analytical posterior well. You can achieve an even better fit if you use online training, more epochs, or better optimizer hyperparameters."
   ]
  },
  {
   "cell_type": "code",
   "execution_count": 15,
   "id": "8562caeb",
   "metadata": {
    "ExecuteTime": {
     "end_time": "2024-09-23T14:42:38.584554Z",
     "start_time": "2024-09-23T14:42:36.076923Z"
    }
   },
   "outputs": [
    {
     "data": {
      "text/plain": [
       "(-0.5, 0.5)"
      ]
     },
     "execution_count": null,
     "metadata": {},
     "output_type": "execute_result"
    },
    {
     "data": {
      "image/png": "[encoded data removed]",
      "text/plain": [
       "<Figure size 600x600 with 1 Axes>"
      ]
     },
     "metadata": {},
     "output_type": "display_data"
    }
   ],
   "source": [
    "# Set the number of posterior draws you want to get\n",
    "num_samples = 5000\n",
    "\n",
    "# Obtain samples from amortized posterior\n",
    "conditions = {\"x\": np.array([[0.0, 0.0]]).astype(\"float32\")}\n",
    "samples_at_origin = approximator.sample(conditions=conditions, num_samples=num_samples)[\"theta\"]\n",
    "\n",
    "# Prepare figure\n",
    "f, axes = plt.subplots(1, figsize=(6, 6))\n",
    "\n",
    "# Plot samples\n",
    "axes.scatter(samples_at_origin[0, :, 0], samples_at_origin[0, :, 1], color=\"#153c7a\", alpha=0.75, s=0.5)\n",
    "sns.despine(ax=axes)\n",
    "axes.set_title(r\"Posterior samples at origin $x=(0, 0)$\")\n",
    "axes.grid(alpha=0.3)\n",
    "axes.set_aspect(\"equal\", adjustable=\"box\")\n",
    "axes.set_xlim([-0.5, 0.5])\n",
    "axes.set_ylim([-0.5, 0.5])"
   ]
  },
  {
   "cell_type": "markdown",
   "id": "01821d24",
   "metadata": {},
   "source": [
    "\n",
    "The posterior looks as we have expected in this case. However, in general, we do not know how the posterior is supposed to look like for any specific dataset. As such, we need diagnostics that validate the correctness of the inferred posterior. One such diagnostic is simulation-based calibration(SBC), which we can apply for free due to amortization. For more details on SBC and diagnostic plots, see:\n",
    "\n",
    "1. Talts, S., Betancourt, M., Simpson, D., Vehtari, A., & Gelman, A. (2018). Validating Bayesian inference algorithms with simulation-based calibration. *arXiv preprint*.\n",
    "2. Säilynoja, T., Bürkner, P. C., & Vehtari, A. (2022). Graphical test for discrete uniformity and its applications in goodness-of-fit evaluation and multiple sample comparison. *Statistics and Computing*."
   ]
  },
  {
   "cell_type": "code",
   "execution_count": 16,
   "id": "f76289b3",
   "metadata": {
    "ExecuteTime": {
     "end_time": "2024-09-23T14:42:38.595234Z",
     "start_time": "2024-09-23T14:42:38.593542Z"
    }
   },
   "outputs": [],
   "source": [
    "# Will be added soon."
   ]
  },
  {
   "cell_type": "markdown",
   "id": "66248a2f",
   "metadata": {},
   "source": [
    "## Further Experimentation <a class=\"anchor\" id=\"further_experimentation\"></a>"
   ]
  },
  {
   "cell_type": "code",
   "execution_count": 17,
   "id": "89dcb727",
   "metadata": {
    "ExecuteTime": {
     "end_time": "2024-09-23T14:42:38.639240Z",
     "start_time": "2024-09-23T14:42:38.637439Z"
    }
   },
   "outputs": [],
   "source": [
    "# Will be added soon."
   ]
  }
 ],
 "metadata": {
  "kernelspec": {
   "display_name": "Python 3 (ipykernel)",
   "language": "python",
   "name": "python3"
  },
  "language_info": {
   "codemirror_mode": {
    "name": "ipython",
    "version": 3
   },
   "file_extension": ".py",
   "mimetype": "text/x-python",
   "name": "python",
   "nbconvert_exporter": "python",
   "pygments_lexer": "ipython3",
   "version": "3.11.5"
  },
  "toc": {
   "base_numbering": 1,
   "nav_menu": {},
   "number_sections": true,
   "sideBar": true,
   "skip_h1_title": true,
   "title_cell": "Table of Contents",
   "title_sidebar": "Contents",
   "toc_cell": true,
   "toc_position": {
    "height": "calc(100% - 180px)",
    "left": "10px",
    "top": "150px",
    "width": "165px"
   },
   "toc_section_display": true,
   "toc_window_display": true
  }
 },
 "nbformat": 4,
 "nbformat_minor": 5
}
