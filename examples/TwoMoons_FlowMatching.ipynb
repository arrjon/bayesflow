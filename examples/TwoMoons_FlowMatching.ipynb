{
 "cells": [
  {
   "cell_type": "markdown",
   "id": "009b6adf",
   "metadata": {},
   "source": [
    "# Two Moons: Tackling Bimodal Posteriors"
   ]
  },
  {
   "cell_type": "markdown",
   "id": "3ed81254",
   "metadata": {},
   "source": [
    "## Table of Contents\n",
    " * [Simulator](#simulator)\n",
    " * [Dataset](#dataset)\n",
    " * [Training](#nn-training)\n",
    " * [Validation](#validation)\n",
    " * [Further Experimentation](#further_experimentation)"
   ]
  },
  {
   "cell_type": "code",
   "execution_count": 15,
   "id": "d5f88a59",
   "metadata": {},
   "outputs": [],
   "source": [
    "import matplotlib.pyplot as plt\n",
    "import numpy as np\n",
    "import seaborn as sns\n",
    "from matplotlib import cm\n",
    "\n",
    "import keras\n",
    "\n",
    "## REMOVE ON PRODUCTION\n",
    "# TODO: what is the point of these lines?\n",
    "import sys\n",
    "sys.path.append('../')\n",
    "\n",
    "import bayesflow as bf"
   ]
  },
  {
   "cell_type": "markdown",
   "id": "c63b26ba",
   "metadata": {},
   "source": [
    "## Simulator<a class=\"anchor\" id=\"simulator\"></a>"
   ]
  },
  {
   "cell_type": "markdown",
   "id": "9525ffd7",
   "metadata": {},
   "source": [
    "This example will demonstrate amortized estimation of a somewhat strange Bayesian model, whose posterior evaluated at the origin $x = (0, 0)$ of the \"data\" will resemble two crescent moons. The forward process is a noisy non-linear transformation on a 2D plane:\n",
    "\n",
    "$$\n",
    "\\begin{align}\n",
    "x_1 &= -|\\theta_1 + \\theta_2|/\\sqrt{2} + r \\cos(\\alpha) + 0.25\\\\\n",
    "x_2 &= (-\\theta_1 + \\theta_2)/\\sqrt{2} + r\\sin{\\alpha}\n",
    "\\end{align}\n",
    "$$\n",
    "\n",
    "with $x = (x_1, x_2)$ playing the role of \"observables\" (data to be learned from), $\\alpha \\sim \\text{Uniform}(-\\pi/2, \\pi/2)$, and $r \\sim \\text{Normal}(0.1, 0.01)$ being latent variables creating noise in the data, and $\\theta = (\\theta_1, \\theta_2)$ being the parameters that we will later seek to infer from new $x$. We set their priors to\n",
    "\n",
    "$$\n",
    "\\begin{align}\n",
    "\\theta_1, \\theta_2 \\sim \\text{Uniform}(-1, 1).\n",
    "\\end{align}\n",
    "$$\n",
    "\n",
    "This model is typically used for benchmarking simulation-based inference (SBI) methods (see https://arxiv.org/pdf/2101.04653) and any method for amortized Bayesian inference should be capable of recovering the two moons posterior *without* using a gazillion of simulations. Note, that this is a considerably harder task than modeling the common unconditional two moons data set used often in the context of normalizing flows.\n",
    "\n",
    "Let's code up the above described `simulator` for use in Bayesflow:"
   ]
  },
  {
   "cell_type": "code",
   "execution_count": 16,
   "id": "c1018d12",
   "metadata": {},
   "outputs": [],
   "source": [
    "# TODO"
   ]
  },
  {
   "cell_type": "markdown",
   "id": "8269d95d",
   "metadata": {},
   "source": [
    "The thus created simulator is the same as the one available in bayesflow benchmark module:"
   ]
  },
  {
   "cell_type": "code",
   "execution_count": 17,
   "id": "373bf602",
   "metadata": {},
   "outputs": [],
   "source": [
    "simulator = bf.benchmarks.TwoMoons()"
   ]
  },
  {
   "cell_type": "markdown",
   "id": "89e64a6f",
   "metadata": {},
   "source": [
    "## Dataset <a class=\"anchor\" id=\"dataset\"></a>"
   ]
  },
  {
   "cell_type": "markdown",
   "id": "23d541b8",
   "metadata": {},
   "source": [
    "Next, we will create training and validation data for the bayesflow training phase:"
   ]
  },
  {
   "cell_type": "code",
   "execution_count": 18,
   "id": "0b9a9817",
   "metadata": {},
   "outputs": [],
   "source": [
    "num_train_simulations = 10000\n",
    "train_data = simulator.sample(batch_shape=num_train_simulations)\n",
    "\n",
    "num_val_simulations = 300\n",
    "val_data = simulator.sample(batch_shape=num_val_simulations)\n",
    "\n",
    "# TODO: show the structure of the training data?"
   ]
  },
  {
   "cell_type": "markdown",
   "id": "b56c7192",
   "metadata": {},
   "source": [
    "To make sure BayesFlow knows how to deal with all the just simulated variables, we have to tell which are considered observables to condition on (\"inference_conditions\") and which are variables to infer later on (\"inference_variables\"). For this purpose, we use the `data_adapter` functionality:"
   ]
  },
  {
   "cell_type": "code",
   "execution_count": 19,
   "id": "e87dcb51",
   "metadata": {},
   "outputs": [],
   "source": [
    "data_adapter = bf.ContinuousApproximator.build_data_adapter(\n",
    "    inference_variables=[\"parameters\"],\n",
    "    inference_conditions=[\"observables\"],\n",
    ")"
   ]
  },
  {
   "cell_type": "markdown",
   "id": "0a17f2bb",
   "metadata": {},
   "source": [
    "Next, we create the `dataset` object that are used for \n",
    "training our deep approximators. In a nutshell, they are a combination of \n",
    "our simulated (training) data and the data adapter we just built. \n",
    "These datasets will also help use taking care of batching during training."
   ]
  },
  {
   "cell_type": "code",
   "execution_count": 20,
   "id": "698ebdb2",
   "metadata": {},
   "outputs": [
    {
     "name": "stdout",
     "output_type": "stream",
     "text": [
      "Number of training batches: 79\n",
      "Number of validation batches: 3\n",
      "Number of training batches: 79\n",
      "Number of validation batches: 3\n"
     ]
    }
   ],
   "source": [
    "batch_size = 128\n",
    "\n",
    "train_dataset = bf.datasets.OfflineDataset(\n",
    "    train_data, batch_size=batch_size, data_adapter=data_adapter\n",
    ")\n",
    "print(f\"Number of training batches: {train_dataset.num_batches}\")\n",
    "\n",
    "val_dataset = bf.datasets.OfflineDataset(\n",
    "    val_data, batch_size=batch_size, data_adapter=data_adapter\n",
    ")\n",
    "print(f\"Number of validation batches: {val_dataset.num_batches}\")"
   ]
  },
  {
   "cell_type": "markdown",
   "id": "2d4c6eb0",
   "metadata": {},
   "source": [
    "## Traing a neural network to approximate all posteriors <a class=\"anchor\" id=\"nn-training\"></a>"
   ]
  },
  {
   "cell_type": "markdown",
   "id": "16395d87",
   "metadata": {},
   "source": [
    "### Flow matching as a posterior approximator"
   ]
  },
  {
   "cell_type": "markdown",
   "id": "ab816c28",
   "metadata": {},
   "source": [
    "With the training dataset prepared, we turn our attention to setting up \n",
    "the neural network that will learn to infer the posterior over $\\theta$ \n",
    "from any observable input $x$ within the scope of our training data. \n",
    "We choose to use a flow matching architecture for this example since\n",
    "it can deal well with the multimodal nature of the posteriors that some\n",
    "observables imply."
   ]
  },
  {
   "cell_type": "code",
   "execution_count": 21,
   "id": "09206e6f",
   "metadata": {},
   "outputs": [],
   "source": [
    "inference_network = bf.networks.FlowMatching(\n",
    "    subnet_kwargs=dict(\n",
    "        depth=6,\n",
    "        width=256,\n",
    "    ),\n",
    ")"
   ]
  },
  {
   "cell_type": "markdown",
   "id": "851e522f",
   "metadata": {},
   "source": [
    "This inference network is just a general flow matching architecure, not yet adapted to the specific inference task at hand. To achieve this adaptation, we combine the network with our data adapter, which together form an `approximator`. In this case, we need a `ContinuousApproximator` since the target we want to approximate is the posterior of the *continuous* parameter vector $\\theta$."
   ]
  },
  {
   "cell_type": "code",
   "execution_count": 22,
   "id": "96ca6ffa",
   "metadata": {},
   "outputs": [],
   "source": [
    "approximator = bf.ContinuousApproximator(\n",
    "    inference_network=inference_network,\n",
    "    data_adapter=data_adapter,\n",
    ")"
   ]
  },
  {
   "cell_type": "markdown",
   "id": "2c81679f",
   "metadata": {},
   "source": [
    "### Optimizer and learning rate"
   ]
  },
  {
   "cell_type": "markdown",
   "id": "c777d575",
   "metadata": {},
   "source": [
    "Before we can start with the actual training, we have to set up our optimizer. \n",
    "Below, we show several of the hyperparameters users can adjust in the built-in Keras3 optimizers.\n",
    "For this particular example, most of these hyperparameters don't really matter, but \n",
    "you should make sure that TODO is not too large."
   ]
  },
  {
   "cell_type": "code",
   "execution_count": 23,
   "id": "e8d7e053",
   "metadata": {},
   "outputs": [],
   "source": [
    "epochs = 300\n",
    "\n",
    "# TODO: do we really need to set all of these manually for this simple example?\n",
    "\n",
    "learning_rate = keras.optimizers.schedules.CosineDecay(\n",
    "    initial_learning_rate=1e-4,\n",
    "    decay_steps=epochs * train_dataset.num_batches,\n",
    "    alpha=1e-7,\n",
    "    warmup_target=1e-3,\n",
    "    warmup_steps=int(0.1 * epochs * train_dataset.num_batches),\n",
    ")\n",
    "\n",
    "optimizer = keras.optimizers.AdamW(\n",
    "    learning_rate=learning_rate,\n",
    "    weight_decay=1e-3\n",
    ")\n",
    "\n",
    "approximator.compile(optimizer=optimizer)"
   ]
  },
  {
   "cell_type": "markdown",
   "id": "708b1303",
   "metadata": {},
   "source": [
    "### Training"
   ]
  },
  {
   "cell_type": "markdown",
   "id": "82d5cc46",
   "metadata": {},
   "source": [
    "We are ready to train our deep posterior approximator on the TwoMoons example:"
   ]
  },
  {
   "cell_type": "code",
   "execution_count": null,
   "id": "0f496bda",
   "metadata": {},
   "outputs": [],
   "source": [
    "# TODO: can we show the training less verbosely? 300 epochs create a lot of output in an ipy notebook\n",
    "history = approximator.fit(\n",
    "    epochs=epochs,\n",
    "    dataset=train_dataset,\n",
    "    workers=None,\n",
    "    use_multiprocessing=False,\n",
    ")"
   ]
  },
  {
   "cell_type": "markdown",
   "id": "b90a6062",
   "metadata": {},
   "source": [
    "## Validation <a class=\"anchor\" id=\"validation\"></a>"
   ]
  },
  {
   "cell_type": "markdown",
   "id": "ca62b21d",
   "metadata": {},
   "source": [
    "### Two Moons Posterior <a class=\"anchor\" id=\"two_moons_posterior\"></a>\n",
    "\n",
    "The two moons posterior at point $x = (0, 0)$ should resemble two crescent shapes. Below, we plot the corresponding posterior samples and posterior density. \n",
    "These results suggest that our flow matching setup can approximate the expected analytical posterior well."
   ]
  },
  {
   "cell_type": "code",
   "execution_count": 25,
   "id": "8562caeb",
   "metadata": {},
   "outputs": [
    {
     "data": {
      "text/plain": [
       "(-0.5, 0.5)"
      ]
     },
     "execution_count": null,
     "metadata": {},
     "output_type": "execute_result"
    },
    {
     "data": {
      "image/png": "[encoded data removed]",
      "text/plain": [
       "<Figure size 600x400 with 1 Axes>"
      ]
     },
     "metadata": {},
     "output_type": "display_data"
    }
   ],
   "source": [
    "# Set the number of posterior draws you want to get\n",
    "num_samples = 5000\n",
    "\n",
    "# Obtain samples from amortized posterior\n",
    "obs_data = [0, 0]\n",
    "samples_at_origin = approximator.sample(conditions={\"observables\": obs_data}, num_samples=num_samples)[\"parameters\"]\n",
    "\n",
    "# Prepare figure\n",
    "f, axes = plt.subplots(1, figsize=(6, 4))\n",
    "\n",
    "# Plot samples\n",
    "axes.scatter(samples_at_origin[0, :, 0], samples_at_origin[0, :, 1], color=\"#153c7a\", alpha=0.75, s=0.5)\n",
    "sns.despine(ax=axes)\n",
    "axes.set_title(r\"Posterior samples at origin $x=(0, 0)$\")\n",
    "axes.grid(alpha=0.3)\n",
    "axes.set_xlim([-0.5, 0.5])\n",
    "axes.set_ylim([-0.5, 0.5])"
   ]
  },
  {
   "cell_type": "markdown",
   "id": "01821d24",
   "metadata": {},
   "source": [
    "\n",
    "The posterior looks as we have expected in this case. However, in general, we do not know how the posterior is supposed to look like for any specific dataset. As such, we need diagnostics that validate the correctness of the inferred posterior. One such diagnostic is simulation-based calibration(SBC), which we can apply for free due to amortization. For more details on SBC and the create diagnostic plots, see:\n",
    "\n",
    "1. Talts, S., Betancourt, M., Simpson, D., Vehtari, A., & Gelman, A. (2018). Validating Bayesian inference algorithms with simulation-based calibration. *arXiv preprint*.\n",
    "2. Säilynoja, T., Bürkner, P. C., & Vehtari, A. (2022). Graphical test for discrete uniformity and its applications in goodness-of-fit evaluation and multiple sample comparison. *Statistics and Computing*."
   ]
  },
  {
   "cell_type": "code",
   "execution_count": 26,
   "id": "f76289b3",
   "metadata": {},
   "outputs": [],
   "source": [
    "# Will be added soon."
   ]
  },
  {
   "cell_type": "markdown",
   "id": "66248a2f",
   "metadata": {},
   "source": [
    "## Further Experimentation <a class=\"anchor\" id=\"further_experimentation\"></a>"
   ]
  },
  {
   "cell_type": "code",
   "execution_count": 27,
   "id": "89dcb727",
   "metadata": {},
   "outputs": [],
   "source": [
    "# Will be added soon."
   ]
  }
 ],
 "metadata": {
  "kernelspec": {
   "display_name": "Python 3 (ipykernel)",
   "language": "python",
   "name": "python3"
  },
  "language_info": {
   "codemirror_mode": {
    "name": "ipython",
    "version": 3
   },
   "file_extension": ".py",
   "mimetype": "text/x-python",
   "name": "python",
   "nbconvert_exporter": "python",
   "pygments_lexer": "ipython3",
   "version": "3.11.5"
  },
  "toc": {
   "base_numbering": 1,
   "nav_menu": {},
   "number_sections": true,
   "sideBar": true,
   "skip_h1_title": true,
   "title_cell": "Table of Contents",
   "title_sidebar": "Contents",
   "toc_cell": true,
   "toc_position": {
    "height": "calc(100% - 180px)",
    "left": "10px",
    "top": "150px",
    "width": "165px"
   },
   "toc_section_display": true,
   "toc_window_display": true
  }
 },
 "nbformat": 4,
 "nbformat_minor": 5
}
